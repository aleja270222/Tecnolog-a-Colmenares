{
  "nbformat": 4,
  "nbformat_minor": 0,
  "metadata": {
    "colab": {
      "provenance": [],
      "collapsed_sections": []
    },
    "kernelspec": {
      "name": "python3",
      "display_name": "Python 3"
    },
    "language_info": {
      "name": "python"
    }
  },
  "cells": [
    {
      "cell_type": "code",
      "source": [],
      "metadata": {
        "id": "twR2wf66rUPM"
      },
      "execution_count": null,
      "outputs": []
    },
    {
      "cell_type": "markdown",
      "source": [
        "<center>\n",
        "\n",
        "#**COLEGIO SIGLO XXI - EL SOCORRO**\n",
        "#**PRESENTADO A : ING PAOLA ANDRA QUINTERO**\n",
        "#**PRESENTADO POR : Laura Alejandra Colmenares Muñoz**\n",
        "#**GRADO DECIMO**\n",
        "#**8 SEPTIEMBRE 2022**\n"
      ],
      "metadata": {
        "id": "B0zqIkMZrZlL"
      }
    },
    {
      "cell_type": "markdown",
      "source": [
        "#**¿Qué es Python?**\n",
        "# Python es un lenguaje de programación multiplataforma y de código abierto que puede utilizarse tanto para desarrollo web, creación de software y procesamiento de datos, entre muchos otros propósitos. Esta versatilidad y facilidad para aprenderlo (es ampliamente considerado el lenguaje más sencillo de aprender) lo han convertido en el lenguaje de programación más popular del mundo, según el índice PYPL.\n",
        "\n",
        "#**Fecha de lanzamiento y Creadores:** Fue lanzado por primera vez en 1991 por Guido van Rossum y sigue siendo desarrollado hoy en día por la Python Software Foundation.\n",
        "\n",
        "#**Recuperado de:** https://platzi.com/blog/python/?utm_source=google&utm_medium=cpc&utm_campaign=17739691128&utm_adgroup=&utm_content=&gclid=Cj0KCQjwpeaYBhDXARIsAEzItbHcjinrNmxOXAUu7UMclSNF0hCMR-wwh41Ng74vA0C_sU3sCCwe51oaAvG7EALw_wcB&gclsrc=aw.ds"
      ],
      "metadata": {
        "id": "K_qHMDLg0xY4"
      }
    },
    {
      "cell_type": "code",
      "source": [
        "print(\"Esto es una suma\")\n",
        "numero_uno= 9\n",
        "numero_dos= 6\n",
        "resultado = numero_uno + numero_dos\n",
        "print(resultado) \n"
      ],
      "metadata": {
        "colab": {
          "base_uri": "https://localhost:8080/"
        },
        "id": "V5wyJyd_3hZw",
        "outputId": "41366fa0-d7e8-4623-de4c-6341dfe0a2df"
      },
      "execution_count": null,
      "outputs": [
        {
          "output_type": "stream",
          "name": "stdout",
          "text": [
            "Esto es una suma\n",
            "15\n"
          ]
        }
      ]
    },
    {
      "cell_type": "code",
      "source": [
        "print(\"Esto es una resta\")\n",
        "numero_uno= 6\n",
        "numero_dos= 0\n",
        "resultado = numero_uno - numero_dos\n",
        "print(resultado) "
      ],
      "metadata": {
        "colab": {
          "base_uri": "https://localhost:8080/"
        },
        "id": "QrObIHeQ4mEz",
        "outputId": "35b9131c-162d-4683-98dd-08cfc07848ff"
      },
      "execution_count": null,
      "outputs": [
        {
          "output_type": "stream",
          "name": "stdout",
          "text": [
            "Esto es una resta\n",
            "6\n"
          ]
        }
      ]
    },
    {
      "cell_type": "code",
      "source": [
        "print(\"Esto es una Multiplicacion\")\n",
        "numero_uno= 9\n",
        "numero_dos= 6\n",
        "resultado = numero_uno * numero_dos\n",
        "print(resultado) "
      ],
      "metadata": {
        "colab": {
          "base_uri": "https://localhost:8080/"
        },
        "id": "GcMSNOS14mvH",
        "outputId": "db7409a6-63fb-4341-891b-7460b0bdd538"
      },
      "execution_count": null,
      "outputs": [
        {
          "output_type": "stream",
          "name": "stdout",
          "text": [
            "Esto es una Multiplicacion\n",
            "54\n"
          ]
        }
      ]
    },
    {
      "cell_type": "code",
      "source": [
        "print(\"Esto es una División\")\n",
        "numero_uno= 9\n",
        "numero_dos= 6\n",
        "resultado = numero_uno / numero_dos\n",
        "print(resultado)\n",
        "\n"
      ],
      "metadata": {
        "colab": {
          "base_uri": "https://localhost:8080/"
        },
        "id": "sI2Rpjuy4nUU",
        "outputId": "e846de07-64cc-4619-a51d-1b044cfca384"
      },
      "execution_count": null,
      "outputs": [
        {
          "output_type": "stream",
          "name": "stdout",
          "text": [
            "Esto es una División\n",
            "1.5\n"
          ]
        }
      ]
    },
    {
      "cell_type": "markdown",
      "source": [
        "#Ejercicios de Tipos de Datos Simples"
      ],
      "metadata": {
        "id": "qavrMrif5LO_"
      }
    },
    {
      "cell_type": "markdown",
      "source": [],
      "metadata": {
        "id": "k5LjNsPT4k2v"
      }
    },
    {
      "cell_type": "code",
      "source": [
        " peso = input(\"¿Cuál es tu peso en kg? \")\n",
        " estatura = input(\"¿Cuál es tu estatura en metros?\")\n",
        " imc= round(float(peso)/float(estatura)**2,2)\n",
        " print(\"Tu indece de masa muscular es \" + str(imc))"
      ],
      "metadata": {
        "colab": {
          "base_uri": "https://localhost:8080/"
        },
        "id": "AJmlHOyw6Lzv",
        "outputId": "18a4371c-251e-4f9e-96b5-ce776951a434"
      },
      "execution_count": null,
      "outputs": [
        {
          "output_type": "stream",
          "name": "stdout",
          "text": [
            "¿Cuál es tu peso en kg? 77\n",
            "¿Cuál es tu estatura en metros?1.65\n",
            "Tu indece de masa muscular es 28.28\n"
          ]
        }
      ]
    },
    {
      "cell_type": "markdown",
      "source": [
        "## Ejercicio 1\n",
        "Ecribir un programa que pregunte el nombre del usuario en la consola y un número entero e imprima por pantalla las líneas distintas el nombre del usuario tantas veces como el número introducido"
      ],
      "metadata": {
        "id": "F7RWpMU1A9Fx"
      }
    },
    {
      "cell_type": "code",
      "source": [
        "nombre = input(\"¿Cómo te llamas? \")\n",
        "n = input(\"Introduce un número entero: \")\n",
        "print((nombre + \"\\n\") * int(n))\n"
      ],
      "metadata": {
        "colab": {
          "base_uri": "https://localhost:8080/"
        },
        "id": "nfv-IqueBKAI",
        "outputId": "692044ca-463b-4cd4-8ec6-8f1b2ac62815"
      },
      "execution_count": null,
      "outputs": [
        {
          "output_type": "stream",
          "name": "stdout",
          "text": [
            "¿Cómo te llamas? Aleja\n",
            "Introduce un número entero: 66\n",
            "Aleja\n",
            "Aleja\n",
            "Aleja\n",
            "Aleja\n",
            "Aleja\n",
            "Aleja\n",
            "Aleja\n",
            "Aleja\n",
            "Aleja\n",
            "Aleja\n",
            "Aleja\n",
            "Aleja\n",
            "Aleja\n",
            "Aleja\n",
            "Aleja\n",
            "Aleja\n",
            "Aleja\n",
            "Aleja\n",
            "Aleja\n",
            "Aleja\n",
            "Aleja\n",
            "Aleja\n",
            "Aleja\n",
            "Aleja\n",
            "Aleja\n",
            "Aleja\n",
            "Aleja\n",
            "Aleja\n",
            "Aleja\n",
            "Aleja\n",
            "Aleja\n",
            "Aleja\n",
            "Aleja\n",
            "Aleja\n",
            "Aleja\n",
            "Aleja\n",
            "Aleja\n",
            "Aleja\n",
            "Aleja\n",
            "Aleja\n",
            "Aleja\n",
            "Aleja\n",
            "Aleja\n",
            "Aleja\n",
            "Aleja\n",
            "Aleja\n",
            "Aleja\n",
            "Aleja\n",
            "Aleja\n",
            "Aleja\n",
            "Aleja\n",
            "Aleja\n",
            "Aleja\n",
            "Aleja\n",
            "Aleja\n",
            "Aleja\n",
            "Aleja\n",
            "Aleja\n",
            "Aleja\n",
            "Aleja\n",
            "Aleja\n",
            "Aleja\n",
            "Aleja\n",
            "Aleja\n",
            "Aleja\n",
            "Aleja\n",
            "\n"
          ]
        }
      ]
    },
    {
      "cell_type": "markdown",
      "source": [],
      "metadata": {
        "id": "P6ESiUdOB-lK"
      }
    },
    {
      "cell_type": "markdown",
      "source": [
        "##Ejercicio 2\n",
        "Escribir un programa que pida al usuario su peso (en kg) y estatura (en metros), calcule el índice de masa corporal y lo almacene en una variable, e imprima por pantalla la frase 'Tú indice de masa corporal es <imc>' donde '<imc>' es el índice de masa corporal calculado  redondeado  con 2 decimales"
      ],
      "metadata": {
        "id": "YnQuAbxXB-m_"
      }
    },
    {
      "cell_type": "code",
      "source": [
        "peso = input(\"¿Cúal es tu pesoen Kg? \")\n",
        "estatura = input(\"¿Cúal es tu estatura en metros?\")\n",
        "imc = round(float(peso)/float(estatura)**2,2)\n",
        "print(\"Ti índice de masa corporal es \" + str(imc))\n"
      ],
      "metadata": {
        "colab": {
          "base_uri": "https://localhost:8080/"
        },
        "id": "BqoY7w97CF1n",
        "outputId": "572a14ee-11e8-4ee9-ae2d-cafd66a5973b"
      },
      "execution_count": 6,
      "outputs": [
        {
          "output_type": "stream",
          "name": "stdout",
          "text": [
            "¿Cúal es tu pesoen Kg? 66\n",
            "¿Cúal es tu estatura en metros?160\n",
            "Ti índice de masa corporal es 0.0\n"
          ]
        }
      ]
    }
  ]
}